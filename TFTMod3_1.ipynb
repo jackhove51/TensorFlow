{
 "cells": [
  {
   "attachments": {},
   "cell_type": "markdown",
   "metadata": {},
   "source": [
    "## Module 3: Core Learning Algorithms\n",
    "\n",
    "# Classification"
   ]
  },
  {
   "cell_type": "code",
   "execution_count": 2,
   "metadata": {},
   "outputs": [],
   "source": [
    "from __future__ import absolute_import, division, print_function, unicode_literals\n",
    "\n",
    "import tensorflow as tf\n",
    "import pandas as pd"
   ]
  },
  {
   "cell_type": "code",
   "execution_count": 3,
   "metadata": {},
   "outputs": [],
   "source": [
    "CSV_COLUMN_NAMES = ['SepalLength', 'SepalWidth', 'PetalLength', 'PetalWidth', 'Species']\n",
    "SPECIES = ['Setosa', 'Versicolor', 'Virginica']"
   ]
  },
  {
   "cell_type": "code",
   "execution_count": 4,
   "metadata": {},
   "outputs": [],
   "source": [
    "train_path = tf.keras.utils.get_file(\n",
    "    \"iris_training.csv\", \"https://storage.googleapis.com/download.tensorflow.org/data/iris_training.csv\")\n",
    "test_path = tf.keras.utils.get_file(\n",
    "    \"iris_test.csv\", \"https://storage.googleapis.com/download.tensorflow.org/data/iris_test.csv\")\n",
    "\n",
    "train = pd.read_csv(train_path, names=CSV_COLUMN_NAMES, header=0)\n",
    "test = pd.read_csv(test_path, names=CSV_COLUMN_NAMES, header=0)"
   ]
  },
  {
   "cell_type": "code",
   "execution_count": 5,
   "metadata": {},
   "outputs": [
    {
     "data": {
      "text/html": [
       "<div>\n",
       "<style scoped>\n",
       "    .dataframe tbody tr th:only-of-type {\n",
       "        vertical-align: middle;\n",
       "    }\n",
       "\n",
       "    .dataframe tbody tr th {\n",
       "        vertical-align: top;\n",
       "    }\n",
       "\n",
       "    .dataframe thead th {\n",
       "        text-align: right;\n",
       "    }\n",
       "</style>\n",
       "<table border=\"1\" class=\"dataframe\">\n",
       "  <thead>\n",
       "    <tr style=\"text-align: right;\">\n",
       "      <th></th>\n",
       "      <th>SepalLength</th>\n",
       "      <th>SepalWidth</th>\n",
       "      <th>PetalLength</th>\n",
       "      <th>PetalWidth</th>\n",
       "      <th>Species</th>\n",
       "    </tr>\n",
       "  </thead>\n",
       "  <tbody>\n",
       "    <tr>\n",
       "      <th>0</th>\n",
       "      <td>6.4</td>\n",
       "      <td>2.8</td>\n",
       "      <td>5.6</td>\n",
       "      <td>2.2</td>\n",
       "      <td>2</td>\n",
       "    </tr>\n",
       "    <tr>\n",
       "      <th>1</th>\n",
       "      <td>5.0</td>\n",
       "      <td>2.3</td>\n",
       "      <td>3.3</td>\n",
       "      <td>1.0</td>\n",
       "      <td>1</td>\n",
       "    </tr>\n",
       "    <tr>\n",
       "      <th>2</th>\n",
       "      <td>4.9</td>\n",
       "      <td>2.5</td>\n",
       "      <td>4.5</td>\n",
       "      <td>1.7</td>\n",
       "      <td>2</td>\n",
       "    </tr>\n",
       "    <tr>\n",
       "      <th>3</th>\n",
       "      <td>4.9</td>\n",
       "      <td>3.1</td>\n",
       "      <td>1.5</td>\n",
       "      <td>0.1</td>\n",
       "      <td>0</td>\n",
       "    </tr>\n",
       "    <tr>\n",
       "      <th>4</th>\n",
       "      <td>5.7</td>\n",
       "      <td>3.8</td>\n",
       "      <td>1.7</td>\n",
       "      <td>0.3</td>\n",
       "      <td>0</td>\n",
       "    </tr>\n",
       "  </tbody>\n",
       "</table>\n",
       "</div>"
      ],
      "text/plain": [
       "   SepalLength  SepalWidth  PetalLength  PetalWidth  Species\n",
       "0          6.4         2.8          5.6         2.2        2\n",
       "1          5.0         2.3          3.3         1.0        1\n",
       "2          4.9         2.5          4.5         1.7        2\n",
       "3          4.9         3.1          1.5         0.1        0\n",
       "4          5.7         3.8          1.7         0.3        0"
      ]
     },
     "execution_count": 5,
     "metadata": {},
     "output_type": "execute_result"
    }
   ],
   "source": [
    "train.head()"
   ]
  },
  {
   "cell_type": "code",
   "execution_count": 6,
   "metadata": {},
   "outputs": [
    {
     "data": {
      "text/html": [
       "<div>\n",
       "<style scoped>\n",
       "    .dataframe tbody tr th:only-of-type {\n",
       "        vertical-align: middle;\n",
       "    }\n",
       "\n",
       "    .dataframe tbody tr th {\n",
       "        vertical-align: top;\n",
       "    }\n",
       "\n",
       "    .dataframe thead th {\n",
       "        text-align: right;\n",
       "    }\n",
       "</style>\n",
       "<table border=\"1\" class=\"dataframe\">\n",
       "  <thead>\n",
       "    <tr style=\"text-align: right;\">\n",
       "      <th></th>\n",
       "      <th>SepalLength</th>\n",
       "      <th>SepalWidth</th>\n",
       "      <th>PetalLength</th>\n",
       "      <th>PetalWidth</th>\n",
       "    </tr>\n",
       "  </thead>\n",
       "  <tbody>\n",
       "    <tr>\n",
       "      <th>0</th>\n",
       "      <td>6.4</td>\n",
       "      <td>2.8</td>\n",
       "      <td>5.6</td>\n",
       "      <td>2.2</td>\n",
       "    </tr>\n",
       "    <tr>\n",
       "      <th>1</th>\n",
       "      <td>5.0</td>\n",
       "      <td>2.3</td>\n",
       "      <td>3.3</td>\n",
       "      <td>1.0</td>\n",
       "    </tr>\n",
       "    <tr>\n",
       "      <th>2</th>\n",
       "      <td>4.9</td>\n",
       "      <td>2.5</td>\n",
       "      <td>4.5</td>\n",
       "      <td>1.7</td>\n",
       "    </tr>\n",
       "    <tr>\n",
       "      <th>3</th>\n",
       "      <td>4.9</td>\n",
       "      <td>3.1</td>\n",
       "      <td>1.5</td>\n",
       "      <td>0.1</td>\n",
       "    </tr>\n",
       "    <tr>\n",
       "      <th>4</th>\n",
       "      <td>5.7</td>\n",
       "      <td>3.8</td>\n",
       "      <td>1.7</td>\n",
       "      <td>0.3</td>\n",
       "    </tr>\n",
       "  </tbody>\n",
       "</table>\n",
       "</div>"
      ],
      "text/plain": [
       "   SepalLength  SepalWidth  PetalLength  PetalWidth\n",
       "0          6.4         2.8          5.6         2.2\n",
       "1          5.0         2.3          3.3         1.0\n",
       "2          4.9         2.5          4.5         1.7\n",
       "3          4.9         3.1          1.5         0.1\n",
       "4          5.7         3.8          1.7         0.3"
      ]
     },
     "execution_count": 6,
     "metadata": {},
     "output_type": "execute_result"
    }
   ],
   "source": [
    "train_y = train.pop('Species')\n",
    "test_y = test.pop('Species')\n",
    "train.head()"
   ]
  },
  {
   "cell_type": "code",
   "execution_count": 7,
   "metadata": {},
   "outputs": [
    {
     "data": {
      "text/plain": [
       "(120, 4)"
      ]
     },
     "execution_count": 7,
     "metadata": {},
     "output_type": "execute_result"
    }
   ],
   "source": [
    "train.shape"
   ]
  },
  {
   "cell_type": "code",
   "execution_count": 8,
   "metadata": {},
   "outputs": [],
   "source": [
    "def input_evaluation_set():\n",
    "    features = {'SepalLength': np.array([6.4, 5.0]),\n",
    "                'SepalWidth':  np.array([2.8, 2.3]),\n",
    "                'PetalLength': np.array([5.6, 3.3]),\n",
    "                'PetalWidth':  np.array([2.2, 1.0])}\n",
    "    labels = np.array([2, 1])\n",
    "    return features, labels"
   ]
  },
  {
   "cell_type": "code",
   "execution_count": 9,
   "metadata": {},
   "outputs": [],
   "source": [
    "def input_fn(features, labels, training=True, batch_size=256):\n",
    "    \"\"\"An input function for training or evaluating\"\"\"\n",
    "    # Convert the inputs to a Dataset.\n",
    "    dataset = tf.data.Dataset.from_tensor_slices((dict(features), labels))\n",
    "\n",
    "    # Shuffle and repeat if you are in training mode.\n",
    "    if training:\n",
    "        dataset = dataset.shuffle(1000).repeat()\n",
    "\n",
    "    return dataset.batch(batch_size)"
   ]
  },
  {
   "cell_type": "code",
   "execution_count": 11,
   "metadata": {},
   "outputs": [
    {
     "name": "stdout",
     "output_type": "stream",
     "text": [
      "[NumericColumn(key='SepalLength', shape=(1,), default_value=None, dtype=tf.float32, normalizer_fn=None), NumericColumn(key='SepalWidth', shape=(1,), default_value=None, dtype=tf.float32, normalizer_fn=None), NumericColumn(key='PetalLength', shape=(1,), default_value=None, dtype=tf.float32, normalizer_fn=None), NumericColumn(key='PetalWidth', shape=(1,), default_value=None, dtype=tf.float32, normalizer_fn=None)]\n"
     ]
    }
   ],
   "source": [
    "# Feature columns describe how to use the input.\n",
    "my_feature_columns = []\n",
    "for key in train.keys():\n",
    "    my_feature_columns.append(tf.feature_column.numeric_column(key=key))\n",
    "print(my_feature_columns)"
   ]
  },
  {
   "cell_type": "code",
   "execution_count": 12,
   "metadata": {},
   "outputs": [
    {
     "name": "stdout",
     "output_type": "stream",
     "text": [
      "INFO:tensorflow:Using default config.\n",
      "WARNING:tensorflow:Using temporary folder as model directory: C:\\Users\\Jackh\\AppData\\Local\\Temp\\tmpfbj3a496\n",
      "INFO:tensorflow:Using config: {'_model_dir': 'C:\\\\Users\\\\Jackh\\\\AppData\\\\Local\\\\Temp\\\\tmpfbj3a496', '_tf_random_seed': None, '_save_summary_steps': 100, '_save_checkpoints_steps': None, '_save_checkpoints_secs': 600, '_session_config': allow_soft_placement: true\n",
      "graph_options {\n",
      "  rewrite_options {\n",
      "    meta_optimizer_iterations: ONE\n",
      "  }\n",
      "}\n",
      ", '_keep_checkpoint_max': 5, '_keep_checkpoint_every_n_hours': 10000, '_log_step_count_steps': 100, '_train_distribute': None, '_device_fn': None, '_protocol': None, '_eval_distribute': None, '_experimental_distribute': None, '_experimental_max_worker_delay_secs': None, '_session_creation_timeout_secs': 7200, '_checkpoint_save_graph_def': True, '_service': None, '_cluster_spec': ClusterSpec({}), '_task_type': 'worker', '_task_id': 0, '_global_id_in_cluster': 0, '_master': '', '_evaluation_master': '', '_is_chief': True, '_num_ps_replicas': 0, '_num_worker_replicas': 1}\n"
     ]
    }
   ],
   "source": [
    "# Build a DNN with 2 hidden layers with 30 and 10 hidden nodes each.\n",
    "classifier = tf.estimator.DNNClassifier(\n",
    "    feature_columns=my_feature_columns,\n",
    "    # Two hidden layers of 30 and 10 nodes respectively.\n",
    "    hidden_units=[30, 10],\n",
    "    # The model must choose between 3 classes.\n",
    "    n_classes=3)"
   ]
  },
  {
   "cell_type": "code",
   "execution_count": 13,
   "metadata": {},
   "outputs": [
    {
     "name": "stdout",
     "output_type": "stream",
     "text": [
      "WARNING:tensorflow:From C:\\Users\\Jackh\\AppData\\Local\\Packages\\PythonSoftwareFoundation.Python.3.7_qbz5n2kfra8p0\\LocalCache\\local-packages\\Python37\\site-packages\\tensorflow\\python\\training\\training_util.py:397: Variable.initialized_value (from tensorflow.python.ops.variables) is deprecated and will be removed in a future version.\n",
      "Instructions for updating:\n",
      "Use Variable.read_value. Variables in 2.X are initialized automatically both in eager and graph (inside tf.defun) contexts.\n",
      "INFO:tensorflow:Calling model_fn.\n",
      "WARNING:tensorflow:From C:\\Users\\Jackh\\AppData\\Local\\Packages\\PythonSoftwareFoundation.Python.3.7_qbz5n2kfra8p0\\LocalCache\\local-packages\\Python37\\site-packages\\keras\\optimizers\\optimizer_v2\\adagrad.py:94: calling Constant.__init__ (from tensorflow.python.ops.init_ops) with dtype is deprecated and will be removed in a future version.\n",
      "Instructions for updating:\n",
      "Call initializer instance with the dtype argument instead of passing it to the constructor\n",
      "INFO:tensorflow:Done calling model_fn.\n",
      "INFO:tensorflow:Create CheckpointSaverHook.\n",
      "INFO:tensorflow:Graph was finalized.\n",
      "INFO:tensorflow:Running local_init_op.\n",
      "INFO:tensorflow:Done running local_init_op.\n",
      "INFO:tensorflow:Calling checkpoint listeners before saving checkpoint 0...\n",
      "INFO:tensorflow:Saving checkpoints for 0 into C:\\Users\\Jackh\\AppData\\Local\\Temp\\tmpfbj3a496\\model.ckpt.\n",
      "INFO:tensorflow:Calling checkpoint listeners after saving checkpoint 0...\n",
      "INFO:tensorflow:loss = 1.4821277, step = 0\n",
      "INFO:tensorflow:global_step/sec: 349.467\n",
      "INFO:tensorflow:loss = 1.0079901, step = 100 (0.287 sec)\n",
      "INFO:tensorflow:global_step/sec: 643.904\n",
      "INFO:tensorflow:loss = 0.90546846, step = 200 (0.155 sec)\n",
      "INFO:tensorflow:global_step/sec: 627.336\n",
      "INFO:tensorflow:loss = 0.84006214, step = 300 (0.159 sec)\n",
      "INFO:tensorflow:global_step/sec: 611.234\n",
      "INFO:tensorflow:loss = 0.7951546, step = 400 (0.167 sec)\n",
      "INFO:tensorflow:global_step/sec: 532.626\n",
      "INFO:tensorflow:loss = 0.7520516, step = 500 (0.185 sec)\n",
      "INFO:tensorflow:global_step/sec: 605.615\n",
      "INFO:tensorflow:loss = 0.72091204, step = 600 (0.166 sec)\n",
      "INFO:tensorflow:global_step/sec: 626.848\n",
      "INFO:tensorflow:loss = 0.6909339, step = 700 (0.157 sec)\n",
      "INFO:tensorflow:global_step/sec: 614.09\n",
      "INFO:tensorflow:loss = 0.67100835, step = 800 (0.164 sec)\n",
      "INFO:tensorflow:global_step/sec: 604.35\n",
      "INFO:tensorflow:loss = 0.65843797, step = 900 (0.165 sec)\n",
      "INFO:tensorflow:global_step/sec: 618.67\n",
      "INFO:tensorflow:loss = 0.6434928, step = 1000 (0.162 sec)\n",
      "INFO:tensorflow:global_step/sec: 601.367\n",
      "INFO:tensorflow:loss = 0.6322291, step = 1100 (0.166 sec)\n",
      "INFO:tensorflow:global_step/sec: 635.694\n",
      "INFO:tensorflow:loss = 0.61070585, step = 1200 (0.158 sec)\n",
      "INFO:tensorflow:global_step/sec: 500.145\n",
      "INFO:tensorflow:loss = 0.6000978, step = 1300 (0.200 sec)\n",
      "INFO:tensorflow:global_step/sec: 640.524\n",
      "INFO:tensorflow:loss = 0.58387387, step = 1400 (0.157 sec)\n",
      "INFO:tensorflow:global_step/sec: 633.833\n",
      "INFO:tensorflow:loss = 0.5786565, step = 1500 (0.156 sec)\n",
      "INFO:tensorflow:global_step/sec: 628.155\n",
      "INFO:tensorflow:loss = 0.5587726, step = 1600 (0.163 sec)\n",
      "INFO:tensorflow:global_step/sec: 636.965\n",
      "INFO:tensorflow:loss = 0.5692808, step = 1700 (0.155 sec)\n",
      "INFO:tensorflow:global_step/sec: 603.623\n",
      "INFO:tensorflow:loss = 0.55197525, step = 1800 (0.166 sec)\n",
      "INFO:tensorflow:global_step/sec: 644.976\n",
      "INFO:tensorflow:loss = 0.5503401, step = 1900 (0.155 sec)\n",
      "INFO:tensorflow:global_step/sec: 638.99\n",
      "INFO:tensorflow:loss = 0.5456471, step = 2000 (0.158 sec)\n",
      "INFO:tensorflow:global_step/sec: 637.044\n",
      "INFO:tensorflow:loss = 0.5319177, step = 2100 (0.156 sec)\n",
      "INFO:tensorflow:global_step/sec: 607.252\n",
      "INFO:tensorflow:loss = 0.52376676, step = 2200 (0.162 sec)\n",
      "INFO:tensorflow:global_step/sec: 640.707\n",
      "INFO:tensorflow:loss = 0.5188928, step = 2300 (0.157 sec)\n",
      "INFO:tensorflow:global_step/sec: 641.691\n",
      "INFO:tensorflow:loss = 0.5110638, step = 2400 (0.157 sec)\n",
      "INFO:tensorflow:global_step/sec: 626.134\n",
      "INFO:tensorflow:loss = 0.5048485, step = 2500 (0.159 sec)\n",
      "INFO:tensorflow:global_step/sec: 631.335\n",
      "INFO:tensorflow:loss = 0.5025142, step = 2600 (0.157 sec)\n",
      "INFO:tensorflow:global_step/sec: 632.183\n",
      "INFO:tensorflow:loss = 0.49114573, step = 2700 (0.163 sec)\n",
      "INFO:tensorflow:global_step/sec: 618.493\n",
      "INFO:tensorflow:loss = 0.4823609, step = 2800 (0.160 sec)\n",
      "INFO:tensorflow:global_step/sec: 632.878\n",
      "INFO:tensorflow:loss = 0.47789377, step = 2900 (0.156 sec)\n",
      "INFO:tensorflow:global_step/sec: 629.575\n",
      "INFO:tensorflow:loss = 0.4775232, step = 3000 (0.161 sec)\n",
      "INFO:tensorflow:global_step/sec: 609.302\n",
      "INFO:tensorflow:loss = 0.47368765, step = 3100 (0.161 sec)\n",
      "INFO:tensorflow:global_step/sec: 622.965\n",
      "INFO:tensorflow:loss = 0.46252975, step = 3200 (0.163 sec)\n",
      "INFO:tensorflow:global_step/sec: 629.439\n",
      "INFO:tensorflow:loss = 0.4649912, step = 3300 (0.159 sec)\n",
      "INFO:tensorflow:global_step/sec: 623.037\n",
      "INFO:tensorflow:loss = 0.45731094, step = 3400 (0.160 sec)\n",
      "INFO:tensorflow:global_step/sec: 634.278\n",
      "INFO:tensorflow:loss = 0.45228934, step = 3500 (0.156 sec)\n",
      "INFO:tensorflow:global_step/sec: 618.234\n",
      "INFO:tensorflow:loss = 0.44911924, step = 3600 (0.162 sec)\n",
      "INFO:tensorflow:global_step/sec: 623.243\n",
      "INFO:tensorflow:loss = 0.45192805, step = 3700 (0.163 sec)\n",
      "INFO:tensorflow:global_step/sec: 648.78\n",
      "INFO:tensorflow:loss = 0.44663662, step = 3800 (0.154 sec)\n",
      "INFO:tensorflow:global_step/sec: 603.83\n",
      "INFO:tensorflow:loss = 0.4451713, step = 3900 (0.166 sec)\n",
      "INFO:tensorflow:global_step/sec: 659.196\n",
      "INFO:tensorflow:loss = 0.4327638, step = 4000 (0.151 sec)\n",
      "INFO:tensorflow:global_step/sec: 639.674\n",
      "INFO:tensorflow:loss = 0.43696547, step = 4100 (0.157 sec)\n",
      "INFO:tensorflow:global_step/sec: 629.857\n",
      "INFO:tensorflow:loss = 0.43424356, step = 4200 (0.159 sec)\n",
      "INFO:tensorflow:global_step/sec: 635.952\n",
      "INFO:tensorflow:loss = 0.40897113, step = 4300 (0.156 sec)\n",
      "INFO:tensorflow:global_step/sec: 628.738\n",
      "INFO:tensorflow:loss = 0.42380676, step = 4400 (0.161 sec)\n",
      "INFO:tensorflow:global_step/sec: 656.708\n",
      "INFO:tensorflow:loss = 0.41933805, step = 4500 (0.149 sec)\n",
      "INFO:tensorflow:global_step/sec: 627.712\n",
      "INFO:tensorflow:loss = 0.41990054, step = 4600 (0.162 sec)\n",
      "INFO:tensorflow:global_step/sec: 627.388\n",
      "INFO:tensorflow:loss = 0.41367057, step = 4700 (0.160 sec)\n",
      "INFO:tensorflow:global_step/sec: 617.769\n",
      "INFO:tensorflow:loss = 0.40701097, step = 4800 (0.162 sec)\n",
      "INFO:tensorflow:global_step/sec: 638.464\n",
      "INFO:tensorflow:loss = 0.41061813, step = 4900 (0.155 sec)\n",
      "INFO:tensorflow:Calling checkpoint listeners before saving checkpoint 5000...\n",
      "INFO:tensorflow:Saving checkpoints for 5000 into C:\\Users\\Jackh\\AppData\\Local\\Temp\\tmpfbj3a496\\model.ckpt.\n",
      "INFO:tensorflow:Calling checkpoint listeners after saving checkpoint 5000...\n",
      "INFO:tensorflow:Loss for final step: 0.40290686.\n"
     ]
    },
    {
     "data": {
      "text/plain": [
       "<tensorflow_estimator.python.estimator.canned.dnn.DNNClassifierV2 at 0x2146c1ecb88>"
      ]
     },
     "execution_count": 13,
     "metadata": {},
     "output_type": "execute_result"
    }
   ],
   "source": [
    "# Train the Model.\n",
    "classifier.train(\n",
    "    input_fn=lambda: input_fn(train, train_y, training=True),\n",
    "    steps=5000)"
   ]
  },
  {
   "cell_type": "code",
   "execution_count": 17,
   "metadata": {},
   "outputs": [
    {
     "name": "stdout",
     "output_type": "stream",
     "text": [
      "INFO:tensorflow:Calling model_fn.\n",
      "INFO:tensorflow:Done calling model_fn.\n",
      "INFO:tensorflow:Starting evaluation at 2023-01-17T13:09:22\n",
      "INFO:tensorflow:Graph was finalized.\n",
      "INFO:tensorflow:Restoring parameters from C:\\Users\\Jackh\\AppData\\Local\\Temp\\tmpfbj3a496\\model.ckpt-5000\n",
      "INFO:tensorflow:Running local_init_op.\n",
      "INFO:tensorflow:Done running local_init_op.\n",
      "INFO:tensorflow:Inference Time : 0.42665s\n",
      "INFO:tensorflow:Finished evaluation at 2023-01-17-13:09:23\n",
      "INFO:tensorflow:Saving dict for global step 5000: accuracy = 0.9, average_loss = 0.4688804, global_step = 5000, loss = 0.4688804\n",
      "INFO:tensorflow:Saving 'checkpoint_path' summary for global step 5000: C:\\Users\\Jackh\\AppData\\Local\\Temp\\tmpfbj3a496\\model.ckpt-5000\n",
      "\n",
      "Test set accuracy: 0.900\n",
      "\n"
     ]
    }
   ],
   "source": [
    "eval_result = classifier.evaluate(input_fn=lambda: input_fn(test, test_y, training=False))\n",
    "print('\\nTest set accuracy: {accuracy:0.3f}\\n'.format(**eval_result))"
   ]
  },
  {
   "cell_type": "code",
   "execution_count": 21,
   "metadata": {},
   "outputs": [],
   "source": [
    "# Generate predictions from the model\n",
    "expected = ['Setosa', 'Versicolor', 'Virginica']\n",
    "predict_x = {\n",
    "    'SepalLength': [5.1, 5.9, 6.9],\n",
    "    'SepalWidth': [3.3, 3.0, 3.1],\n",
    "    'PetalLength': [1.7, 4.2, 5.4],\n",
    "    'PetalWidth': [0.5, 1.5, 2.1],\n",
    "}\n",
    "\n",
    "def input_fn(features, batch_size=256):\n",
    "    \"\"\"An input function for prediction.\"\"\"\n",
    "    # Convert the inputs to a Dataset without labels.\n",
    "    return tf.data.Dataset.from_tensor_slices(dict(features)).batch(batch_size)\n",
    "\n",
    "predictions = classifier.predict(\n",
    "    input_fn=lambda: input_fn(predict_x))"
   ]
  },
  {
   "cell_type": "code",
   "execution_count": 22,
   "metadata": {},
   "outputs": [
    {
     "name": "stdout",
     "output_type": "stream",
     "text": [
      "INFO:tensorflow:Calling model_fn.\n",
      "INFO:tensorflow:Done calling model_fn.\n",
      "INFO:tensorflow:Graph was finalized.\n",
      "INFO:tensorflow:Restoring parameters from C:\\Users\\Jackh\\AppData\\Local\\Temp\\tmpfbj3a496\\model.ckpt-5000\n",
      "INFO:tensorflow:Running local_init_op.\n",
      "INFO:tensorflow:Done running local_init_op.\n",
      "Prediction is \"Setosa\" (81.4%), expected \"Setosa\"\n",
      "Prediction is \"Versicolor\" (51.6%), expected \"Versicolor\"\n",
      "Prediction is \"Virginica\" (63.2%), expected \"Virginica\"\n"
     ]
    }
   ],
   "source": [
    "for pred_dict, expec in zip(predictions, expected):\n",
    "    class_id = pred_dict['class_ids'][0]\n",
    "    probability = pred_dict['probabilities'][class_id]\n",
    "\n",
    "    print('Prediction is \"{}\" ({:.1f}%), expected \"{}\"'.format(\n",
    "        SPECIES[class_id], 100 * probability, expec))"
   ]
  }
 ],
 "metadata": {
  "kernelspec": {
   "display_name": "Python 3",
   "language": "python",
   "name": "python3"
  },
  "language_info": {
   "codemirror_mode": {
    "name": "ipython",
    "version": 3
   },
   "file_extension": ".py",
   "mimetype": "text/x-python",
   "name": "python",
   "nbconvert_exporter": "python",
   "pygments_lexer": "ipython3",
   "version": "3.7.9"
  },
  "orig_nbformat": 4,
  "vscode": {
   "interpreter": {
    "hash": "c6b0717a8341da7f60772d08f8313b519d1ec34a52f7149fb8b6563b42314f1d"
   }
  }
 },
 "nbformat": 4,
 "nbformat_minor": 2
}
