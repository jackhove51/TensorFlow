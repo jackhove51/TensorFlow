{
 "cells": [
  {
   "attachments": {},
   "cell_type": "markdown",
   "metadata": {},
   "source": [
    "## Module 3: Core Learning Algorithms\n",
    "\n",
    "# Hidden Markov Models"
   ]
  },
  {
   "cell_type": "code",
   "execution_count": 3,
   "metadata": {},
   "outputs": [],
   "source": [
    "import tensorflow_probability as tfp\n",
    "import tensorflow as tf"
   ]
  },
  {
   "cell_type": "code",
   "execution_count": 4,
   "metadata": {},
   "outputs": [
    {
     "data": {
      "text/plain": [
       "<tf.Tensor: shape=(), dtype=float32, numpy=-19.855635>"
      ]
     },
     "execution_count": 4,
     "metadata": {},
     "output_type": "execute_result"
    }
   ],
   "source": [
    "tfd = tfp.distributions\n",
    "\n",
    "# A simple weather model.\n",
    "\n",
    "# Represent a cold day with 0 and a hot day with 1.\n",
    "# Suppose the first day of a sequence has a 0.8 chance of being cold.\n",
    "# We can model this using the categorical distribution:\n",
    "\n",
    "initial_distribution = tfd.Categorical(probs=[0.8, 0.2])\n",
    "\n",
    "# Suppose a cold day has a 30% chance of being followed by a hot day\n",
    "# and a hot day has a 20% chance of being followed by a cold day.\n",
    "# We can model this as:\n",
    "\n",
    "transition_distribution = tfd.Categorical(probs=[[0.7, 0.3],\n",
    "                                                 [0.2, 0.8]])\n",
    "\n",
    "# Suppose additionally that on each day the temperature is\n",
    "# normally distributed with mean and standard deviation 0 and 5 on\n",
    "# a cold day and mean and standard deviation 15 and 10 on a hot day.\n",
    "# We can model this with:\n",
    "\n",
    "observation_distribution = tfd.Normal(loc=[0., 15.], scale=[5., 10.])\n",
    "\n",
    "# We can combine these distributions into a single week long\n",
    "# hidden Markov model with:\n",
    "\n",
    "model = tfd.HiddenMarkovModel(\n",
    "    initial_distribution=initial_distribution,\n",
    "    transition_distribution=transition_distribution,\n",
    "    observation_distribution=observation_distribution,\n",
    "    num_steps=7)\n",
    "\n",
    "# The expected temperatures for each day are given by:\n",
    "\n",
    "model.mean()  # shape [7], elements approach 9.0\n",
    "\n",
    "# The log pdf of a week of temperature 0 is:\n",
    "\n",
    "model.log_prob(tf.zeros(shape=[7]))"
   ]
  },
  {
   "cell_type": "code",
   "execution_count": 14,
   "metadata": {},
   "outputs": [
    {
     "name": "stdout",
     "output_type": "stream",
     "text": [
      "Expected temperature for day 0: 3.00 degrees Celsius\n",
      "Expected temperature for day 1: 6.00 degrees Celsius\n",
      "Expected temperature for day 2: 7.50 degrees Celsius\n",
      "Expected temperature for day 3: 8.25 degrees Celsius\n",
      "Expected temperature for day 4: 8.62 degrees Celsius\n",
      "Expected temperature for day 5: 8.81 degrees Celsius\n",
      "Expected temperature for day 6: 8.91 degrees Celsius\n"
     ]
    }
   ],
   "source": [
    "mean = model.mean()\n",
    "\n",
    "with tf.compat.v1.Session() as sess:\n",
    "    for i in range(len(mean.numpy())):\n",
    "        print(\"Expected temperature for day {}: {:.2f} degrees Celsius\".format(i, mean.numpy()[i]))"
   ]
  }
 ],
 "metadata": {
  "kernelspec": {
   "display_name": "Python 3",
   "language": "python",
   "name": "python3"
  },
  "language_info": {
   "codemirror_mode": {
    "name": "ipython",
    "version": 3
   },
   "file_extension": ".py",
   "mimetype": "text/x-python",
   "name": "python",
   "nbconvert_exporter": "python",
   "pygments_lexer": "ipython3",
   "version": "3.7.9"
  },
  "orig_nbformat": 4,
  "vscode": {
   "interpreter": {
    "hash": "c6b0717a8341da7f60772d08f8313b519d1ec34a52f7149fb8b6563b42314f1d"
   }
  }
 },
 "nbformat": 4,
 "nbformat_minor": 2
}
